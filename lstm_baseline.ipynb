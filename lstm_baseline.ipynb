{
 "cells": [
  {
   "cell_type": "code",
   "execution_count": 1,
   "metadata": {},
   "outputs": [],
   "source": [
    "# Reference https://github.com/danwild/sagemaker-sentiment-analysis/blob/master/SageMaker%20Project.ipynb"
   ]
  },
  {
   "cell_type": "code",
   "execution_count": 2,
   "metadata": {},
   "outputs": [],
   "source": [
    "import os\n",
    "import glob\n",
    "import pandas as pd\n",
    "import nltk\n",
    "from nltk.corpus import stopwords\n",
    "from nltk.stem.porter import *\n",
    "import re\n",
    "import numpy as np\n",
    "import pickle\n",
    "import sagemaker\n",
    "import torch\n",
    "import torch.utils.data\n",
    "import torch.optim as optim\n",
    "from train.model import LSTMClassifier\n",
    "from sagemaker.pytorch import PyTorch\n",
    "import collections\n",
    "from sklearn.utils import shuffle"
   ]
  },
  {
   "cell_type": "code",
   "execution_count": 3,
   "metadata": {},
   "outputs": [],
   "source": [
    "label_dict = {'pro-immigration':0, 'anti-immigration':1, 'pro-guns':2, 'anti-guns':3, 'pro-medicare':4, 'oppose-medicare':5}"
   ]
  },
  {
   "cell_type": "code",
   "execution_count": 4,
   "metadata": {},
   "outputs": [],
   "source": [
    "# HELPER FUNCTION: GOAL, read in training data and format into lists\n",
    "\n",
    "def read_train_data(path='./data/L3train_nonOneHot.csv'):\n",
    "    data = {}\n",
    "    labels = {}\n",
    "    \n",
    "    for data_type in ['train']:\n",
    "        data[data_type] = {}\n",
    "        labels[data_type] = {}\n",
    "        \n",
    "        for target in ['pro-immigration', 'anti-immigration', 'pro-guns', 'anti-guns', 'pro-medicare', 'oppose-medicare']:\n",
    "            data[data_type][target] = []\n",
    "            labels[data_type][target] = []\n",
    "            \n",
    "            df = pd.read_csv(path)\n",
    "            \n",
    "            for index, row in df.iterrows():\n",
    "                if row.category == target:\n",
    "                    data[data_type][target].append(row.text)\n",
    "                    labels[data_type][target].append(label_dict[row.category])\n",
    "                    \n",
    "            assert len(data[data_type][target]) == len(labels[data_type][target]), \\\n",
    "                    \"{}/{} data size does not match labels size\".format(data_type, target)\n",
    "                \n",
    "    return data, labels"
   ]
  },
  {
   "cell_type": "code",
   "execution_count": 5,
   "metadata": {},
   "outputs": [
    {
     "name": "stdout",
     "output_type": "stream",
     "text": [
      "Immigration Articles: train = 900 pro / 385 anti\n",
      "Gun Articles: train = 759 pro / 745 anti\n",
      "Medicare Articles: train = 673 pro / 639 anti\n"
     ]
    }
   ],
   "source": [
    "data, labels = read_train_data()\n",
    "\n",
    "print(\"Immigration Articles: train = {} pro / {} anti\".format(\n",
    "            len(data['train']['pro-immigration']), len(data['train']['anti-immigration'])))\n",
    "\n",
    "print(\"Gun Articles: train = {} pro / {} anti\".format(\n",
    "            len(data['train']['pro-guns']), len(data['train']['anti-guns'])))\n",
    "\n",
    "print(\"Medicare Articles: train = {} pro / {} anti\".format(\n",
    "            len(data['train']['pro-medicare']), len(data['train']['oppose-medicare'])))"
   ]
  },
  {
   "cell_type": "code",
   "execution_count": 6,
   "metadata": {},
   "outputs": [],
   "source": [
    "def combine_train_data(data, labels):\n",
    "    \"\"\"Prepare training dataset with L3 data. Be sure to shuffle.\"\"\"\n",
    "    \n",
    "    # Combine all categories together\n",
    "    data_train = data['train']['pro-immigration'] + data['train']['anti-immigration'] + data['train']['pro-guns'] + data['train']['anti-guns'] + data['train']['pro-medicare'] + data['train']['oppose-medicare'] \n",
    "    labels_train = labels['train']['pro-immigration'] + labels['train']['anti-immigration'] + labels['train']['pro-guns'] + labels['train']['anti-guns'] + labels['train']['pro-medicare'] + labels['train']['oppose-medicare'] \n",
    "    \n",
    "    # Shuffle data\n",
    "    data_train, labels_train = shuffle(data_train, labels_train)\n",
    "    \n",
    "    # Return a unified training data, training labels\n",
    "    return data_train, labels_train"
   ]
  },
  {
   "cell_type": "code",
   "execution_count": 7,
   "metadata": {},
   "outputs": [
    {
     "name": "stdout",
     "output_type": "stream",
     "text": [
      "Full dataset (combined):  4101\n"
     ]
    }
   ],
   "source": [
    "train_X, train_y = combine_train_data(data, labels)\n",
    "print(\"Full dataset (combined): \", len(train_X))"
   ]
  },
  {
   "cell_type": "code",
   "execution_count": 8,
   "metadata": {},
   "outputs": [
    {
     "data": {
      "text/plain": [
       "(\"The last time that limiting immigration was on the U.S. legislative agenda, in the mid-1990s, Barbara Jordan's commission suggested limiting family immigration and eliminating the visa lottery, which gives out visas based on chance.\",\n",
       " 1)"
      ]
     },
     "execution_count": 8,
     "metadata": {},
     "output_type": "execute_result"
    }
   ],
   "source": [
    "train_X[33], train_y[33]"
   ]
  },
  {
   "cell_type": "code",
   "execution_count": 9,
   "metadata": {},
   "outputs": [
    {
     "data": {
      "text/plain": [
       "Counter({5: 639, 4: 673, 1: 385, 0: 900, 3: 745, 2: 759})"
      ]
     },
     "execution_count": 9,
     "metadata": {},
     "output_type": "execute_result"
    }
   ],
   "source": [
    "collections.Counter(train_y)"
   ]
  },
  {
   "cell_type": "code",
   "execution_count": 283,
   "metadata": {},
   "outputs": [],
   "source": [
    "def sent_to_words(text):\n",
    "    nltk.download(\"stopwords\", quiet=True)\n",
    "    \n",
    "    text = re.sub(r\"[^a-zA-Z0-9]\", \" \", text.lower()) # Convert to lower case\n",
    "    words = text.split() # Split string into words\n",
    "    words = [w for w in words if w not in stopwords.words(\"english\")] # Remove stopwords\n",
    "    \n",
    "    return words"
   ]
  },
  {
   "cell_type": "code",
   "execution_count": 284,
   "metadata": {},
   "outputs": [
    {
     "data": {
      "text/plain": [
       "['immigrants',\n",
       " 'likely',\n",
       " 'start',\n",
       " 'business',\n",
       " 'native',\n",
       " 'born',\n",
       " 'americans',\n",
       " 'whether',\n",
       " 'corner',\n",
       " 'shop',\n",
       " 'high',\n",
       " 'tech',\n",
       " 'startup']"
      ]
     },
     "execution_count": 284,
     "metadata": {},
     "output_type": "execute_result"
    }
   ],
   "source": [
    "sent_to_words(train_X[1])"
   ]
  },
  {
   "cell_type": "code",
   "execution_count": 285,
   "metadata": {},
   "outputs": [],
   "source": [
    "words_train = [sent_to_words(sent) for sent in train_X]"
   ]
  },
  {
   "cell_type": "code",
   "execution_count": 286,
   "metadata": {},
   "outputs": [],
   "source": [
    "cache_dir = os.path.join(\"../cache\", \"lstm_baseline_single_label\")  # where to store cache files\n",
    "os.makedirs(cache_dir, exist_ok=True)  # ensure cache directory exists\n",
    "\n",
    "def preprocess_data(data_train, labels_train, cache_dir=cache_dir, cache_file=\"preprocessed_data.pkl\"):\n",
    "    \"\"\"Convert each sentence to words; read from cache if available.\"\"\"\n",
    "\n",
    "    # If cache_file is not None, try to read from it first\n",
    "    cache_data = None\n",
    "    if cache_file is not None:\n",
    "        try:\n",
    "            with open(os.path.join(cache_dir, cache_file), \"rb\") as f:\n",
    "                cache_data = pickle.load(f)\n",
    "            print(\"Read preprocessed data from cache file:\", cache_file)\n",
    "        except:\n",
    "            pass  # unable to read from cache, but that's okay\n",
    "    \n",
    "    # If cache is missing, then do the heavy lifting\n",
    "    if cache_data is None:\n",
    "        # Preprocess training and test data to obtain words for each review\n",
    "        # words_train = list(map(review_to_words, data_train))\n",
    "        # words_test = list(map(review_to_words, data_test))\n",
    "        words_train = [sent_to_words(text) for text in data_train]\n",
    "        \n",
    "        # Write to cache file for future runs\n",
    "        if cache_file is not None:\n",
    "            cache_data = dict(words_train=words_train, labels_train=labels_train)\n",
    "            with open(os.path.join(cache_dir, cache_file), \"wb\") as f:\n",
    "                pickle.dump(cache_data, f)\n",
    "            print(\"Wrote preprocessed data to cache file:\", cache_file)\n",
    "    else:\n",
    "        # Unpack data loaded from cache file\n",
    "        words_train, labels_train= (cache_data['words_train'],cache_data['labels_train'])\n",
    "    \n",
    "    return words_train, labels_train"
   ]
  },
  {
   "cell_type": "code",
   "execution_count": 287,
   "metadata": {},
   "outputs": [
    {
     "name": "stdout",
     "output_type": "stream",
     "text": [
      "Read preprocessed data from cache file: preprocessed_data.pkl\n"
     ]
    }
   ],
   "source": [
    "# Preprocess data\n",
    "train_X, train_y= preprocess_data(train_X, train_y)"
   ]
  },
  {
   "cell_type": "markdown",
   "metadata": {},
   "source": [
    "# Preprocess Test Data"
   ]
  },
  {
   "cell_type": "code",
   "execution_count": 288,
   "metadata": {},
   "outputs": [],
   "source": [
    "test_dict = {}\n",
    "candidates = ['Biden','Sanders','Buttigieg','Klobuchar','Yang','Warren']\n",
    "for c in candidates: \n",
    "    df = pd.read_csv('./data/' + c + '_test.csv')\n",
    "    l = df.text.to_list()\n",
    "    words_test = [sent_to_words(sent) for sent in l]\n",
    "    test_dict[c] = words_test\n"
   ]
  },
  {
   "cell_type": "markdown",
   "metadata": {},
   "source": [
    "# Transform Input"
   ]
  },
  {
   "cell_type": "code",
   "execution_count": 289,
   "metadata": {},
   "outputs": [],
   "source": [
    "def build_dict(data, vocab_size = 50000):\n",
    "    \"\"\"Construct and return a dictionary mapping each of the most frequently appearing words to a unique integer.\"\"\"\n",
    "    \n",
    "    # Determine how often each word appears in `data`. Note that `data` is a list of sentences and that a\n",
    "    # sentence is a list of words.\n",
    "    \n",
    "    # A dict storing the words that appear in the reviews along with how often they occur\n",
    "    word_count = {} \n",
    "    \n",
    "    # tally up the word counts\n",
    "    for sentence in data:\n",
    "        for word in sentence:\n",
    "            word_count[word] = word_count[word] + 1 if word in word_count else 1\n",
    "    \n",
    "    # Sort the words found in `data` so that sorted_words[0] is the most frequently appearing word and\n",
    "    # sorted_words[-1] is the least frequently appearing word. \n",
    "    word_count_sorted = sorted(word_count.items(), key=(lambda item: item[1]), reverse=True)\n",
    "    sorted_words = [item[0] for item in word_count_sorted]\n",
    "    \n",
    "    # This is what we are building, a dictionary that translates words into integers\n",
    "    word_dict = {} \n",
    "    for idx, word in enumerate(sorted_words[:vocab_size - 2]): # The -2 is so that we save room for the 'no word'\n",
    "        word_dict[word] = idx + 2                              # 'infrequent' labels\n",
    "        \n",
    "    return word_dict"
   ]
  },
  {
   "cell_type": "code",
   "execution_count": 290,
   "metadata": {},
   "outputs": [],
   "source": [
    "\n",
    "def convert_and_pad(word_dict, sentence, pad=128):\n",
    "    NOWORD = 0 # We will use 0 to represent the 'no word' category\n",
    "    INFREQ = 1 # and we use 1 to represent the infrequent words, i.e., words not appearing in word_dict\n",
    "    \n",
    "    working_sentence = [NOWORD] * pad\n",
    "    \n",
    "    for word_index, word in enumerate(sentence[:pad]):\n",
    "        if word in word_dict:\n",
    "            working_sentence[word_index] = word_dict[word]\n",
    "        else:\n",
    "            working_sentence[word_index] = INFREQ\n",
    "            \n",
    "    return working_sentence, min(len(sentence), pad)\n",
    "\n",
    "def convert_and_pad_data(word_dict, data, pad=128):\n",
    "    result = []\n",
    "    lengths = []\n",
    "    \n",
    "    for sentence in data:\n",
    "        converted, leng = convert_and_pad(word_dict, sentence, pad)\n",
    "        result.append(converted)\n",
    "        lengths.append(leng)\n",
    "        \n",
    "    return np.array(result), np.array(lengths)"
   ]
  },
  {
   "cell_type": "code",
   "execution_count": 291,
   "metadata": {},
   "outputs": [],
   "source": [
    "word_dict = build_dict(train_X)"
   ]
  },
  {
   "cell_type": "code",
   "execution_count": 292,
   "metadata": {},
   "outputs": [
    {
     "data": {
      "text/plain": [
       "['gun', 'would', 'health', 'immigrants', 'medicare']"
      ]
     },
     "execution_count": 292,
     "metadata": {},
     "output_type": "execute_result"
    }
   ],
   "source": [
    "list(word_dict.keys())[:5]"
   ]
  },
  {
   "cell_type": "code",
   "execution_count": 293,
   "metadata": {},
   "outputs": [],
   "source": [
    "## Save Progress so far\n",
    "\n",
    "data_dir = '../data/pytorch' # The folder we will use for storing data\n",
    "if not os.path.exists(data_dir): # Make sure that the folder exists\n",
    "    print(\"making folder\")\n",
    "    os.makedirs(data_dir)"
   ]
  },
  {
   "cell_type": "code",
   "execution_count": 294,
   "metadata": {},
   "outputs": [
    {
     "name": "stdout",
     "output_type": "stream",
     "text": [
      "Pickling file\n"
     ]
    }
   ],
   "source": [
    "with open(os.path.join(data_dir, 'word_dict.pkl'), \"wb\") as f:\n",
    "    print(\"Pickling file\")\n",
    "    pickle.dump(word_dict, f)"
   ]
  },
  {
   "cell_type": "code",
   "execution_count": 295,
   "metadata": {},
   "outputs": [],
   "source": [
    "train_X_num, train_X_len = convert_and_pad_data(word_dict, train_X)"
   ]
  },
  {
   "cell_type": "code",
   "execution_count": 296,
   "metadata": {},
   "outputs": [
    {
     "name": "stdout",
     "output_type": "stream",
     "text": [
      "['report', 'national', 'academies', 'sciences', 'engineering', 'medicine', 'found', 'little', 'effect', 'wages', 'employment', 'native', 'born', 'workers', 'long', 'term', 'undocumented', 'immigrants']\n",
      "[ 417   38 1289 1057 1459  589   50  590  222  199  763  108   49   42\n",
      "  124  433  362    5    0    0    0    0    0    0    0    0    0    0\n",
      "    0    0    0    0    0    0    0    0    0    0    0    0    0    0\n",
      "    0    0    0    0    0    0    0    0    0    0    0    0    0    0\n",
      "    0    0    0    0    0    0    0    0    0    0    0    0    0    0\n",
      "    0    0    0    0    0    0    0    0    0    0    0    0    0    0\n",
      "    0    0    0    0    0    0    0    0    0    0    0    0    0    0\n",
      "    0    0    0    0    0    0    0    0    0    0    0    0    0    0\n",
      "    0    0    0    0    0    0    0    0    0    0    0    0    0    0\n",
      "    0    0]\n"
     ]
    }
   ],
   "source": [
    "print(train_X[1])\n",
    "print(train_X_num[1])"
   ]
  },
  {
   "cell_type": "code",
   "execution_count": 297,
   "metadata": {},
   "outputs": [
    {
     "data": {
      "text/plain": [
       "128"
      ]
     },
     "execution_count": 297,
     "metadata": {},
     "output_type": "execute_result"
    }
   ],
   "source": [
    "max([len(x) for x in train_X_num])"
   ]
  },
  {
   "cell_type": "code",
   "execution_count": 298,
   "metadata": {},
   "outputs": [],
   "source": [
    "test_dict_num = {}\n",
    "test_dict_len = {}\n",
    "\n",
    "for key, val in test_dict.items():\n",
    "    test_dict_num[key], test_dict_len[key] = convert_and_pad_data(word_dict, val)"
   ]
  },
  {
   "cell_type": "markdown",
   "metadata": {},
   "source": [
    "# Upload Data to Sagemaker"
   ]
  },
  {
   "cell_type": "code",
   "execution_count": 299,
   "metadata": {},
   "outputs": [],
   "source": [
    "pd.concat([pd.DataFrame(train_y), pd.DataFrame(train_X_len), pd.DataFrame(train_X_num)], axis=1) \\\n",
    "        .to_csv(os.path.join(data_dir, 'lstm_train.csv'), header=False, index=False)"
   ]
  },
  {
   "cell_type": "code",
   "execution_count": 300,
   "metadata": {},
   "outputs": [],
   "source": [
    "sagemaker_session = sagemaker.Session()\n",
    "\n",
    "bucket = sagemaker_session.default_bucket()\n",
    "prefix = 'sagemaker/sentiment_rnn'\n",
    "\n",
    "role = sagemaker.get_execution_role()"
   ]
  },
  {
   "cell_type": "code",
   "execution_count": 301,
   "metadata": {},
   "outputs": [],
   "source": [
    "input_data = sagemaker_session.upload_data(path=data_dir, bucket=bucket, key_prefix=prefix)"
   ]
  },
  {
   "cell_type": "markdown",
   "metadata": {},
   "source": [
    "# Build and Train Pytorch Model"
   ]
  },
  {
   "cell_type": "code",
   "execution_count": 302,
   "metadata": {},
   "outputs": [
    {
     "name": "stdout",
     "output_type": "stream",
     "text": [
      "\u001b[34mimport\u001b[39;49;00m \u001b[04m\u001b[36mtorch.nn\u001b[39;49;00m \u001b[34mas\u001b[39;49;00m \u001b[04m\u001b[36mnn\u001b[39;49;00m\r\n",
      "\r\n",
      "\u001b[34mclass\u001b[39;49;00m \u001b[04m\u001b[32mLSTMClassifier\u001b[39;49;00m(nn.Module):\r\n",
      "    \u001b[33m\"\"\"\u001b[39;49;00m\r\n",
      "\u001b[33m    This is the simple RNN model we will be using to perform Sentiment Analysis.\u001b[39;49;00m\r\n",
      "\u001b[33m    \"\"\"\u001b[39;49;00m\r\n",
      "\r\n",
      "    \u001b[34mdef\u001b[39;49;00m \u001b[32m__init__\u001b[39;49;00m(\u001b[36mself\u001b[39;49;00m, embedding_dim, hidden_dim, vocab_size):\r\n",
      "        \u001b[33m\"\"\"\u001b[39;49;00m\r\n",
      "\u001b[33m        Initialize the model by settingg up the various layers.\u001b[39;49;00m\r\n",
      "\u001b[33m        \"\"\"\u001b[39;49;00m\r\n",
      "        \u001b[36msuper\u001b[39;49;00m(LSTMClassifier, \u001b[36mself\u001b[39;49;00m).\u001b[32m__init__\u001b[39;49;00m()\r\n",
      "\r\n",
      "        \u001b[36mself\u001b[39;49;00m.embedding = nn.Embedding(vocab_size, embedding_dim, padding_idx=\u001b[34m0\u001b[39;49;00m)\r\n",
      "        \u001b[36mself\u001b[39;49;00m.lstm = nn.LSTM(embedding_dim, hidden_dim)\r\n",
      "        \u001b[36mself\u001b[39;49;00m.dense = nn.Linear(in_features=hidden_dim, out_features=\u001b[34m6\u001b[39;49;00m)\r\n",
      "        \u001b[36mself\u001b[39;49;00m.sm = nn.Softmax(dim = \u001b[34m1\u001b[39;49;00m)\r\n",
      "        \r\n",
      "        \u001b[36mself\u001b[39;49;00m.word_dict = \u001b[36mNone\u001b[39;49;00m\r\n",
      "\r\n",
      "    \u001b[34mdef\u001b[39;49;00m \u001b[32mforward\u001b[39;49;00m(\u001b[36mself\u001b[39;49;00m, x):\r\n",
      "        \u001b[33m\"\"\"\u001b[39;49;00m\r\n",
      "\u001b[33m        Perform a forward pass of our model on some input.\u001b[39;49;00m\r\n",
      "\u001b[33m        \"\"\"\u001b[39;49;00m\r\n",
      "        x = x.t()\r\n",
      "        lengths = x[\u001b[34m0\u001b[39;49;00m,:]\r\n",
      "        text = x[\u001b[34m1\u001b[39;49;00m:,:]\r\n",
      "        embeds = \u001b[36mself\u001b[39;49;00m.embedding(text)\r\n",
      "        lstm_out, _ = \u001b[36mself\u001b[39;49;00m.lstm(embeds)\r\n",
      "        out = \u001b[36mself\u001b[39;49;00m.dense(lstm_out)\r\n",
      "        out = out[lengths - \u001b[34m1\u001b[39;49;00m, \u001b[36mrange\u001b[39;49;00m(\u001b[36mlen\u001b[39;49;00m(lengths))]\r\n",
      "        \u001b[34mreturn\u001b[39;49;00m \u001b[36mself\u001b[39;49;00m.sm(out.squeeze())\r\n"
     ]
    }
   ],
   "source": [
    "!pygmentize train/model_lstm.py"
   ]
  },
  {
   "cell_type": "code",
   "execution_count": 303,
   "metadata": {},
   "outputs": [],
   "source": [
    "import torch\n",
    "import torch.utils.data\n",
    "\n",
    "# Read in only the first 500 rows for testing\n",
    "train_sample = pd.read_csv(os.path.join(data_dir, 'lstm_train.csv'), header=None, names=None, nrows=500)\n",
    "\n",
    "# Turn the input pandas dataframe into tensors\n",
    "train_sample_y = torch.from_numpy(train_sample[[0]].values).long().squeeze()\n",
    "train_sample_X = torch.from_numpy(train_sample.drop([0], axis=1).values).long()\n",
    "\n",
    "# Build the dataset\n",
    "train_sample_ds = torch.utils.data.TensorDataset(train_sample_X, train_sample_y)\n",
    "# Build the dataloader\n",
    "train_sample_dl = torch.utils.data.DataLoader(train_sample_ds, batch_size=50)"
   ]
  },
  {
   "cell_type": "code",
   "execution_count": 304,
   "metadata": {},
   "outputs": [],
   "source": [
    "def train(model, train_loader, epochs, optimizer, loss_fn, device):\n",
    "    for epoch in range(1, epochs + 1):\n",
    "        model.train()\n",
    "        total_loss = 0\n",
    "        for batch in train_loader:         \n",
    "            batch_X, batch_y = batch\n",
    "            \n",
    "            batch_X = batch_X.to(device)\n",
    "            batch_y = batch_y.to(device)\n",
    "            \n",
    "            # TODO: Complete this train method to train the model provided.\n",
    "            optimizer.zero_grad()\n",
    "            output = model(batch_X)\n",
    "            loss = loss_fn(output, batch_y)\n",
    "            loss.backward()\n",
    "            optimizer.step()\n",
    "            \n",
    "            total_loss += loss.data.item()\n",
    "        print(\"Epoch: {}, Cross Entropy Loss: {}\".format(epoch, total_loss / len(train_loader)))"
   ]
  },
  {
   "cell_type": "code",
   "execution_count": 305,
   "metadata": {},
   "outputs": [
    {
     "name": "stdout",
     "output_type": "stream",
     "text": [
      "tensor([0.5399, 0.4844, 0.5216, 0.5143, 0.5339, 0.5095, 0.5003, 0.5215, 0.4973,\n",
      "        0.5348, 0.5091, 0.5351, 0.4904, 0.4757, 0.4780, 0.5096, 0.5162, 0.5270,\n",
      "        0.5009, 0.5387, 0.4974, 0.5172, 0.5114, 0.4826, 0.5006, 0.5193, 0.5252,\n",
      "        0.4919, 0.4701, 0.5444, 0.5078, 0.4917, 0.5150, 0.4935, 0.5174, 0.5008,\n",
      "        0.5335, 0.5035, 0.4914, 0.4994, 0.5127, 0.5253, 0.4919, 0.4972, 0.5186,\n",
      "        0.5327, 0.5170, 0.5286, 0.5063, 0.5044], grad_fn=<SigmoidBackward>)\n",
      "torch.Size([50])\n",
      "tensor([0.5326, 0.5108, 0.5407, 0.5556, 0.5119, 0.5275, 0.5047, 0.4966, 0.5418,\n",
      "        0.4911, 0.5362, 0.5223, 0.5032, 0.4934, 0.5104, 0.4970, 0.5074, 0.4871,\n",
      "        0.4821, 0.5383, 0.5282, 0.4995, 0.5558, 0.5327, 0.4777, 0.4990, 0.4908,\n",
      "        0.5090, 0.5227, 0.5202, 0.5367, 0.5060, 0.4865, 0.5290, 0.5072, 0.5074,\n",
      "        0.5037, 0.5131, 0.4944, 0.5165, 0.5249, 0.4974, 0.5202, 0.5186, 0.4827,\n",
      "        0.4931, 0.5206, 0.5326, 0.4893, 0.5257], grad_fn=<SigmoidBackward>)\n",
      "torch.Size([50])\n",
      "tensor([0.4467, 0.4932, 0.4953, 0.4722, 0.4961, 0.4808, 0.4942, 0.5097, 0.4735,\n",
      "        0.4731, 0.4956, 0.5113, 0.5123, 0.4815, 0.5333, 0.5021, 0.4981, 0.4990,\n",
      "        0.4940, 0.4729, 0.5263, 0.4773, 0.5536, 0.5402, 0.4973, 0.4722, 0.5084,\n",
      "        0.4981, 0.5091, 0.5079, 0.5089, 0.5410, 0.4943, 0.5032, 0.4805, 0.5014,\n",
      "        0.4936, 0.5292, 0.4827, 0.4994, 0.4911, 0.5378, 0.5032, 0.4645, 0.5057,\n",
      "        0.4880, 0.4761, 0.5027, 0.4853, 0.5049], grad_fn=<SigmoidBackward>)\n",
      "torch.Size([50])\n",
      "tensor([0.4924, 0.4937, 0.5104, 0.4937, 0.4856, 0.4908, 0.5185, 0.5120, 0.4775,\n",
      "        0.4760, 0.4802, 0.5054, 0.4840, 0.5292, 0.4871, 0.4976, 0.5391, 0.5076,\n",
      "        0.4871, 0.4730, 0.5233, 0.5377, 0.5193, 0.4986, 0.4907, 0.5149, 0.4853,\n",
      "        0.4824, 0.5016, 0.4821, 0.5062, 0.4787, 0.4920, 0.5128, 0.5242, 0.5034,\n",
      "        0.5188, 0.5210, 0.5015, 0.5033, 0.5043, 0.5407, 0.5091, 0.5134, 0.4834,\n",
      "        0.4564, 0.5045, 0.5218, 0.5034, 0.5038], grad_fn=<SigmoidBackward>)\n",
      "torch.Size([50])\n",
      "tensor([0.5115, 0.5488, 0.5062, 0.5186, 0.5412, 0.5136, 0.5453, 0.5108, 0.4874,\n",
      "        0.5153, 0.5146, 0.4661, 0.5195, 0.5098, 0.5352, 0.5274, 0.5035, 0.5340,\n",
      "        0.5158, 0.5160, 0.5408, 0.5198, 0.4916, 0.4888, 0.5192, 0.5150, 0.5176,\n",
      "        0.5336, 0.5152, 0.5029, 0.5233, 0.5091, 0.5392, 0.4887, 0.5104, 0.5378,\n",
      "        0.5257, 0.5079, 0.5422, 0.5489, 0.5500, 0.5522, 0.5039, 0.5414, 0.4882,\n",
      "        0.5112, 0.5393, 0.5231, 0.5395, 0.5408], grad_fn=<SigmoidBackward>)\n",
      "torch.Size([50])\n",
      "tensor([0.4731, 0.4820, 0.4601, 0.4662, 0.4683, 0.4867, 0.4684, 0.4729, 0.4809,\n",
      "        0.4855, 0.4629, 0.4579, 0.4664, 0.4763, 0.4386, 0.4457, 0.4443, 0.4912,\n",
      "        0.5105, 0.4419, 0.4580, 0.5103, 0.4779, 0.4869, 0.4666, 0.4724, 0.5224,\n",
      "        0.4846, 0.4434, 0.4989, 0.4999, 0.5007, 0.4370, 0.4342, 0.4880, 0.4949,\n",
      "        0.4571, 0.4898, 0.4763, 0.4701, 0.4650, 0.5010, 0.4900, 0.4873, 0.4769,\n",
      "        0.4746, 0.5040, 0.4701, 0.5062, 0.4441], grad_fn=<SigmoidBackward>)\n",
      "torch.Size([50])\n",
      "tensor([0.5125, 0.4992, 0.5335, 0.5125, 0.5237, 0.5296, 0.4950, 0.5195, 0.5008,\n",
      "        0.5171, 0.5253, 0.4885, 0.4882, 0.5247, 0.5009, 0.4935, 0.5288, 0.5187,\n",
      "        0.5334, 0.5091, 0.4659, 0.5082, 0.5146, 0.5272, 0.5029, 0.5155, 0.5046,\n",
      "        0.5142, 0.4944, 0.5276, 0.5407, 0.4946, 0.4991, 0.5120, 0.5014, 0.5086,\n",
      "        0.5298, 0.4990, 0.4954, 0.4861, 0.4788, 0.5150, 0.5093, 0.4978, 0.5058,\n",
      "        0.4958, 0.5071, 0.5119, 0.5062, 0.5200], grad_fn=<SigmoidBackward>)\n",
      "torch.Size([50])\n",
      "tensor([0.4717, 0.4719, 0.5027, 0.4636, 0.4846, 0.4687, 0.4809, 0.4944, 0.4812,\n",
      "        0.4701, 0.4683, 0.4649, 0.5077, 0.5041, 0.4938, 0.4651, 0.5002, 0.4423,\n",
      "        0.5120, 0.4736, 0.5036, 0.4580, 0.4972, 0.4859, 0.4979, 0.4726, 0.4890,\n",
      "        0.5109, 0.4545, 0.5016, 0.4719, 0.4963, 0.4366, 0.4834, 0.4855, 0.4541,\n",
      "        0.5217, 0.4980, 0.4849, 0.4837, 0.4756, 0.5051, 0.4950, 0.4983, 0.4767,\n",
      "        0.4797, 0.4587, 0.4935, 0.4635, 0.4593], grad_fn=<SigmoidBackward>)\n",
      "torch.Size([50])\n",
      "tensor([0.5195, 0.4880, 0.4958, 0.4940, 0.4680, 0.4861, 0.4753, 0.5077, 0.5098,\n",
      "        0.4797, 0.4798, 0.5002, 0.4950, 0.5008, 0.5078, 0.4930, 0.4992, 0.5011,\n",
      "        0.4749, 0.4908, 0.4892, 0.4985, 0.4976, 0.5024, 0.4976, 0.4986, 0.5154,\n",
      "        0.4698, 0.4817, 0.4920, 0.4875, 0.4770, 0.4833, 0.4537, 0.4710, 0.5003,\n",
      "        0.4927, 0.4937, 0.4764, 0.4990, 0.5268, 0.4663, 0.4911, 0.4976, 0.5109,\n",
      "        0.4728, 0.5114, 0.5063, 0.4623, 0.5083], grad_fn=<SigmoidBackward>)\n",
      "torch.Size([50])\n",
      "tensor([0.4561, 0.4849, 0.4679, 0.4784, 0.4745, 0.5036, 0.4916, 0.5022, 0.4564,\n",
      "        0.4556, 0.4718, 0.4958, 0.4557, 0.5149, 0.4883, 0.4764, 0.4447, 0.5035,\n",
      "        0.4981, 0.4587, 0.4478, 0.4928, 0.4900, 0.4977, 0.5130, 0.4652, 0.4859,\n",
      "        0.4930, 0.4839, 0.4998, 0.5186, 0.4688, 0.4553, 0.5204, 0.4342, 0.4864,\n",
      "        0.4776, 0.4635, 0.4546, 0.4972, 0.4850, 0.4590, 0.4762, 0.4820, 0.4730,\n",
      "        0.4725, 0.5176, 0.4689, 0.4974, 0.4343], grad_fn=<SigmoidBackward>)\n",
      "torch.Size([50])\n"
     ]
    }
   ],
   "source": [
    "for bt in train_sample_dl:\n",
    "    bX, bY = bt\n",
    "    \n",
    "    bX = bX.to(device)\n",
    "    bY = bY.to(device)\n",
    "    \n",
    "    model = LSTMClassifier(100, 100, 50000).to(device)\n",
    "    optimizer.zero_grad()\n",
    "    output = model(bX)\n",
    "    print(output)\n",
    "    print(output.shape)"
   ]
  },
  {
   "cell_type": "code",
   "execution_count": 306,
   "metadata": {},
   "outputs": [
    {
     "name": "stderr",
     "output_type": "stream",
     "text": [
      "/home/ec2-user/SageMaker/train/model_lstm.py:32: UserWarning: Implicit dimension choice for softmax has been deprecated. Change the call to include dim=X as an argument.\n",
      "  return self.sm(out.squeeze())\n"
     ]
    },
    {
     "name": "stdout",
     "output_type": "stream",
     "text": [
      "Epoch: 1, Cross Entropy Loss: 1.7716382980346679\n",
      "Epoch: 2, Cross Entropy Loss: 1.669167399406433\n",
      "Epoch: 3, Cross Entropy Loss: 1.2528348803520202\n",
      "Epoch: 4, Cross Entropy Loss: 1.0678372859954834\n",
      "Epoch: 5, Cross Entropy Loss: 1.0534244656562806\n"
     ]
    }
   ],
   "source": [
    "import torch.optim as optim\n",
    "from train.model_lstm import LSTMClassifier\n",
    "\n",
    "device = torch.device(\"cuda\" if torch.cuda.is_available() else \"cpu\")\n",
    "model = LSTMClassifier(100, 100, 50000).to(device)\n",
    "optimizer = optim.Adam(model.parameters())\n",
    "loss_fn = torch.nn.CrossEntropyLoss()\n",
    "\n",
    "train(model, train_sample_dl, 5, optimizer, loss_fn, device)"
   ]
  },
  {
   "cell_type": "markdown",
   "metadata": {},
   "source": [
    "# Now do it on the full training dataset!"
   ]
  },
  {
   "cell_type": "code",
   "execution_count": 307,
   "metadata": {},
   "outputs": [],
   "source": [
    "estimator = PyTorch(entry_point=\"train_lstm.py\",\n",
    "                    source_dir=\"train\",\n",
    "                    role=role,\n",
    "                    framework_version='0.4.0',\n",
    "                    train_instance_count=1,\n",
    "                    train_instance_type='ml.p2.xlarge',\n",
    "                    hyperparameters={\n",
    "                        'epochs': 10,\n",
    "                        'hidden_dim': 200,\n",
    "                    })"
   ]
  },
  {
   "cell_type": "code",
   "execution_count": 308,
   "metadata": {},
   "outputs": [
    {
     "name": "stdout",
     "output_type": "stream",
     "text": [
      "2020-02-27 02:26:05 Starting - Starting the training job...\n",
      "2020-02-27 02:26:06 Starting - Launching requested ML instances...\n",
      "2020-02-27 02:27:05 Starting - Preparing the instances for training......\n",
      "2020-02-27 02:28:05 Downloading - Downloading input data...\n",
      "2020-02-27 02:28:35 Training - Downloading the training image.....\u001b[34mbash: cannot set terminal process group (-1): Inappropriate ioctl for device\u001b[0m\n",
      "\u001b[34mbash: no job control in this shell\u001b[0m\n",
      "\u001b[34m2020-02-27 02:29:13,549 sagemaker-containers INFO     Imported framework sagemaker_pytorch_container.training\u001b[0m\n",
      "\u001b[34m2020-02-27 02:29:13,574 sagemaker_pytorch_container.training INFO     Block until all host DNS lookups succeed.\u001b[0m\n",
      "\u001b[34m2020-02-27 02:29:16,677 sagemaker_pytorch_container.training INFO     Invoking user training script.\u001b[0m\n",
      "\u001b[34m2020-02-27 02:29:16,932 sagemaker-containers INFO     Module train_lstm does not provide a setup.py. \u001b[0m\n",
      "\u001b[34mGenerating setup.py\u001b[0m\n",
      "\u001b[34m2020-02-27 02:29:16,932 sagemaker-containers INFO     Generating setup.cfg\u001b[0m\n",
      "\u001b[34m2020-02-27 02:29:16,932 sagemaker-containers INFO     Generating MANIFEST.in\u001b[0m\n",
      "\u001b[34m2020-02-27 02:29:16,932 sagemaker-containers INFO     Installing module with the following command:\u001b[0m\n",
      "\u001b[34m/usr/bin/python -m pip install -U . -r requirements.txt\u001b[0m\n",
      "\u001b[34mProcessing /opt/ml/code\u001b[0m\n",
      "\u001b[34mCollecting pandas (from -r requirements.txt (line 1))\n",
      "  Downloading https://files.pythonhosted.org/packages/74/24/0cdbf8907e1e3bc5a8da03345c23cbed7044330bb8f73bb12e711a640a00/pandas-0.24.2-cp35-cp35m-manylinux1_x86_64.whl (10.0MB)\u001b[0m\n",
      "\u001b[34mCollecting numpy (from -r requirements.txt (line 2))\n",
      "  Downloading https://files.pythonhosted.org/packages/52/e6/1715e592ef47f28f3f50065322423bb75619ed2f7c24be86380ecc93503c/numpy-1.18.1-cp35-cp35m-manylinux1_x86_64.whl (19.9MB)\u001b[0m\n",
      "\u001b[34mCollecting nltk (from -r requirements.txt (line 3))\n",
      "  Downloading https://files.pythonhosted.org/packages/f6/1d/d925cfb4f324ede997f6d47bea4d9babba51b49e87a767c170b77005889d/nltk-3.4.5.zip (1.5MB)\u001b[0m\n",
      "\u001b[34mCollecting beautifulsoup4 (from -r requirements.txt (line 4))\n",
      "  Downloading https://files.pythonhosted.org/packages/cb/a1/c698cf319e9cfed6b17376281bd0efc6bfc8465698f54170ef60a485ab5d/beautifulsoup4-4.8.2-py3-none-any.whl (106kB)\u001b[0m\n",
      "\u001b[34mCollecting html5lib (from -r requirements.txt (line 5))\n",
      "  Downloading https://files.pythonhosted.org/packages/a5/62/bbd2be0e7943ec8504b517e62bab011b4946e1258842bc159e5dfde15b96/html5lib-1.0.1-py2.py3-none-any.whl (117kB)\u001b[0m\n",
      "\u001b[34mCollecting pytz>=2011k (from pandas->-r requirements.txt (line 1))\n",
      "  Downloading https://files.pythonhosted.org/packages/e7/f9/f0b53f88060247251bf481fa6ea62cd0d25bf1b11a87888e53ce5b7c8ad2/pytz-2019.3-py2.py3-none-any.whl (509kB)\u001b[0m\n",
      "\u001b[34mRequirement already satisfied, skipping upgrade: python-dateutil>=2.5.0 in /usr/local/lib/python3.5/dist-packages (from pandas->-r requirements.txt (line 1)) (2.7.5)\u001b[0m\n",
      "\u001b[34mRequirement already satisfied, skipping upgrade: six in /usr/local/lib/python3.5/dist-packages (from nltk->-r requirements.txt (line 3)) (1.11.0)\u001b[0m\n",
      "\u001b[34mCollecting soupsieve>=1.2 (from beautifulsoup4->-r requirements.txt (line 4))\n",
      "  Downloading https://files.pythonhosted.org/packages/05/cf/ea245e52f55823f19992447b008bcbb7f78efc5960d77f6c34b5b45b36dd/soupsieve-2.0-py2.py3-none-any.whl\u001b[0m\n",
      "\u001b[34mCollecting webencodings (from html5lib->-r requirements.txt (line 5))\n",
      "  Downloading https://files.pythonhosted.org/packages/f4/24/2a3e3df732393fed8b3ebf2ec078f05546de641fe1b667ee316ec1dcf3b7/webencodings-0.5.1-py2.py3-none-any.whl\u001b[0m\n",
      "\u001b[34mBuilding wheels for collected packages: nltk, train-lstm\n",
      "  Running setup.py bdist_wheel for nltk: started\u001b[0m\n",
      "\u001b[34m  Running setup.py bdist_wheel for nltk: finished with status 'done'\n",
      "  Stored in directory: /root/.cache/pip/wheels/96/86/f6/68ab24c23f207c0077381a5e3904b2815136b879538a24b483\n",
      "  Running setup.py bdist_wheel for train-lstm: started\u001b[0m\n",
      "\n",
      "2020-02-27 02:29:13 Training - Training image download completed. Training in progress.\u001b[34m  Running setup.py bdist_wheel for train-lstm: finished with status 'done'\n",
      "  Stored in directory: /tmp/pip-ephem-wheel-cache-atm8zv7n/wheels/35/24/16/37574d11bf9bde50616c67372a334f94fa8356bc7164af8ca3\u001b[0m\n",
      "\u001b[34mSuccessfully built nltk train-lstm\u001b[0m\n",
      "\u001b[34mInstalling collected packages: pytz, numpy, pandas, nltk, soupsieve, beautifulsoup4, webencodings, html5lib, train-lstm\n",
      "  Found existing installation: numpy 1.15.4\n",
      "    Uninstalling numpy-1.15.4:\u001b[0m\n",
      "\u001b[34m      Successfully uninstalled numpy-1.15.4\u001b[0m\n",
      "\u001b[34mSuccessfully installed beautifulsoup4-4.8.2 html5lib-1.0.1 nltk-3.4.5 numpy-1.18.1 pandas-0.24.2 pytz-2019.3 soupsieve-2.0 train-lstm-1.0.0 webencodings-0.5.1\u001b[0m\n",
      "\u001b[34mYou are using pip version 18.1, however version 20.0.2 is available.\u001b[0m\n",
      "\u001b[34mYou should consider upgrading via the 'pip install --upgrade pip' command.\u001b[0m\n",
      "\u001b[34m2020-02-27 02:29:29,552 sagemaker-containers INFO     Invoking user script\n",
      "\u001b[0m\n",
      "\u001b[34mTraining Env:\n",
      "\u001b[0m\n",
      "\u001b[34m{\n",
      "    \"module_dir\": \"s3://sagemaker-us-west-2-496641494145/sagemaker-pytorch-2020-02-27-02-26-04-789/source/sourcedir.tar.gz\",\n",
      "    \"hyperparameters\": {\n",
      "        \"hidden_dim\": 200,\n",
      "        \"epochs\": 10\n",
      "    },\n",
      "    \"output_dir\": \"/opt/ml/output\",\n",
      "    \"input_config_dir\": \"/opt/ml/input/config\",\n",
      "    \"num_gpus\": 1,\n",
      "    \"current_host\": \"algo-1\",\n",
      "    \"hosts\": [\n",
      "        \"algo-1\"\n",
      "    ],\n",
      "    \"job_name\": \"sagemaker-pytorch-2020-02-27-02-26-04-789\",\n",
      "    \"log_level\": 20,\n",
      "    \"channel_input_dirs\": {\n",
      "        \"training\": \"/opt/ml/input/data/training\"\n",
      "    },\n",
      "    \"model_dir\": \"/opt/ml/model\",\n",
      "    \"num_cpus\": 4,\n",
      "    \"user_entry_point\": \"train_lstm.py\",\n",
      "    \"additional_framework_parameters\": {},\n",
      "    \"output_data_dir\": \"/opt/ml/output/data\",\n",
      "    \"resource_config\": {\n",
      "        \"current_host\": \"algo-1\",\n",
      "        \"hosts\": [\n",
      "            \"algo-1\"\n",
      "        ],\n",
      "        \"network_interface_name\": \"eth0\"\n",
      "    },\n",
      "    \"input_data_config\": {\n",
      "        \"training\": {\n",
      "            \"RecordWrapperType\": \"None\",\n",
      "            \"S3DistributionType\": \"FullyReplicated\",\n",
      "            \"TrainingInputMode\": \"File\"\n",
      "        }\n",
      "    },\n",
      "    \"network_interface_name\": \"eth0\",\n",
      "    \"output_intermediate_dir\": \"/opt/ml/output/intermediate\",\n",
      "    \"module_name\": \"train_lstm\",\n",
      "    \"framework_module\": \"sagemaker_pytorch_container.training:main\",\n",
      "    \"input_dir\": \"/opt/ml/input\"\u001b[0m\n",
      "\u001b[34m}\n",
      "\u001b[0m\n",
      "\u001b[34mEnvironment variables:\n",
      "\u001b[0m\n",
      "\u001b[34mSM_TRAINING_ENV={\"additional_framework_parameters\":{},\"channel_input_dirs\":{\"training\":\"/opt/ml/input/data/training\"},\"current_host\":\"algo-1\",\"framework_module\":\"sagemaker_pytorch_container.training:main\",\"hosts\":[\"algo-1\"],\"hyperparameters\":{\"epochs\":10,\"hidden_dim\":200},\"input_config_dir\":\"/opt/ml/input/config\",\"input_data_config\":{\"training\":{\"RecordWrapperType\":\"None\",\"S3DistributionType\":\"FullyReplicated\",\"TrainingInputMode\":\"File\"}},\"input_dir\":\"/opt/ml/input\",\"job_name\":\"sagemaker-pytorch-2020-02-27-02-26-04-789\",\"log_level\":20,\"model_dir\":\"/opt/ml/model\",\"module_dir\":\"s3://sagemaker-us-west-2-496641494145/sagemaker-pytorch-2020-02-27-02-26-04-789/source/sourcedir.tar.gz\",\"module_name\":\"train_lstm\",\"network_interface_name\":\"eth0\",\"num_cpus\":4,\"num_gpus\":1,\"output_data_dir\":\"/opt/ml/output/data\",\"output_dir\":\"/opt/ml/output\",\"output_intermediate_dir\":\"/opt/ml/output/intermediate\",\"resource_config\":{\"current_host\":\"algo-1\",\"hosts\":[\"algo-1\"],\"network_interface_name\":\"eth0\"},\"user_entry_point\":\"train_lstm.py\"}\u001b[0m\n",
      "\u001b[34mSM_HPS={\"epochs\":10,\"hidden_dim\":200}\u001b[0m\n",
      "\u001b[34mSM_NETWORK_INTERFACE_NAME=eth0\u001b[0m\n",
      "\u001b[34mSM_HP_HIDDEN_DIM=200\u001b[0m\n",
      "\u001b[34mSM_NUM_GPUS=1\u001b[0m\n",
      "\u001b[34mSM_HOSTS=[\"algo-1\"]\u001b[0m\n",
      "\u001b[34mSM_USER_ARGS=[\"--epochs\",\"10\",\"--hidden_dim\",\"200\"]\u001b[0m\n",
      "\u001b[34mPYTHONPATH=/usr/local/bin:/usr/lib/python35.zip:/usr/lib/python3.5:/usr/lib/python3.5/plat-x86_64-linux-gnu:/usr/lib/python3.5/lib-dynload:/usr/local/lib/python3.5/dist-packages:/usr/lib/python3/dist-packages\u001b[0m\n",
      "\u001b[34mSM_FRAMEWORK_PARAMS={}\u001b[0m\n",
      "\u001b[34mSM_OUTPUT_INTERMEDIATE_DIR=/opt/ml/output/intermediate\u001b[0m\n",
      "\u001b[34mSM_USER_ENTRY_POINT=train_lstm.py\u001b[0m\n",
      "\u001b[34mSM_RESOURCE_CONFIG={\"current_host\":\"algo-1\",\"hosts\":[\"algo-1\"],\"network_interface_name\":\"eth0\"}\u001b[0m\n",
      "\u001b[34mSM_NUM_CPUS=4\u001b[0m\n",
      "\u001b[34mSM_INPUT_DATA_CONFIG={\"training\":{\"RecordWrapperType\":\"None\",\"S3DistributionType\":\"FullyReplicated\",\"TrainingInputMode\":\"File\"}}\u001b[0m\n",
      "\u001b[34mSM_MODULE_DIR=s3://sagemaker-us-west-2-496641494145/sagemaker-pytorch-2020-02-27-02-26-04-789/source/sourcedir.tar.gz\u001b[0m\n",
      "\u001b[34mSM_LOG_LEVEL=20\u001b[0m\n",
      "\u001b[34mSM_OUTPUT_DIR=/opt/ml/output\u001b[0m\n",
      "\u001b[34mSM_CHANNEL_TRAINING=/opt/ml/input/data/training\u001b[0m\n",
      "\u001b[34mSM_INPUT_CONFIG_DIR=/opt/ml/input/config\u001b[0m\n",
      "\u001b[34mSM_MODEL_DIR=/opt/ml/model\u001b[0m\n",
      "\u001b[34mSM_OUTPUT_DATA_DIR=/opt/ml/output/data\u001b[0m\n",
      "\u001b[34mSM_FRAMEWORK_MODULE=sagemaker_pytorch_container.training:main\u001b[0m\n",
      "\u001b[34mSM_MODULE_NAME=train_lstm\u001b[0m\n",
      "\u001b[34mSM_INPUT_DIR=/opt/ml/input\u001b[0m\n",
      "\u001b[34mSM_HP_EPOCHS=10\u001b[0m\n",
      "\u001b[34mSM_CHANNELS=[\"training\"]\u001b[0m\n",
      "\u001b[34mSM_CURRENT_HOST=algo-1\n",
      "\u001b[0m\n",
      "\u001b[34mInvoking script with the following command:\n",
      "\u001b[0m\n",
      "\u001b[34m/usr/bin/python -m train_lstm --epochs 10 --hidden_dim 200\n",
      "\n",
      "\u001b[0m\n",
      "\u001b[34mUsing device cuda.\u001b[0m\n",
      "\u001b[34mGet train data loader.\u001b[0m\n",
      "\u001b[34mModel loaded with embedding_dim 32, hidden_dim 200, vocab_size 50000.\u001b[0m\n",
      "\u001b[34mEpoch: 1, Cross Entropy Loss: 1.794309178988139\u001b[0m\n",
      "\u001b[34mEpoch: 2, Cross Entropy Loss: 1.7864472733603582\u001b[0m\n",
      "\u001b[34mEpoch: 3, Cross Entropy Loss: 1.7817753818300035\u001b[0m\n",
      "\u001b[34mEpoch: 4, Cross Entropy Loss: 1.7755091057883368\u001b[0m\n",
      "\u001b[34mEpoch: 5, Cross Entropy Loss: 1.7645494408077664\u001b[0m\n",
      "\u001b[34mEpoch: 6, Cross Entropy Loss: 1.7404405275980632\u001b[0m\n",
      "\u001b[34mEpoch: 7, Cross Entropy Loss: 1.7217053307427301\u001b[0m\n",
      "\u001b[34mEpoch: 8, Cross Entropy Loss: 1.6814439958996243\u001b[0m\n",
      "\u001b[34mEpoch: 9, Cross Entropy Loss: 1.676886863178677\u001b[0m\n",
      "\u001b[34mEpoch: 10, Cross Entropy Loss: 1.636886715888977\u001b[0m\n",
      "\u001b[34m2020-02-27 02:29:43,268 sagemaker-containers INFO     Reporting training SUCCESS\u001b[0m\n",
      "\n",
      "2020-02-27 02:29:51 Uploading - Uploading generated training model\n",
      "2020-02-27 02:29:51 Completed - Training job completed\n",
      "Training seconds: 106\n",
      "Billable seconds: 106\n"
     ]
    }
   ],
   "source": [
    "estimator.fit({'training': input_data})"
   ]
  },
  {
   "cell_type": "code",
   "execution_count": 309,
   "metadata": {},
   "outputs": [
    {
     "name": "stdout",
     "output_type": "stream",
     "text": [
      "-----------------!"
     ]
    }
   ],
   "source": [
    "# TODO: Deploy the trained model\n",
    "predictor = estimator.deploy(initial_instance_count=1, instance_type='ml.m4.xlarge')"
   ]
  },
  {
   "cell_type": "code",
   "execution_count": 310,
   "metadata": {},
   "outputs": [],
   "source": [
    "# Prep test datasets for evaluation\n",
    "\n",
    "biden_X = pd.concat([pd.DataFrame(test_dict_len[\"Biden\"]), pd.DataFrame(test_dict_num[\"Biden\"])], axis=1)\n",
    "buttigieg_X = pd.concat([pd.DataFrame(test_dict_len[\"Buttigieg\"]), pd.DataFrame(test_dict_num[\"Buttigieg\"])], axis=1)\n",
    "sanders_X = pd.concat([pd.DataFrame(test_dict_len[\"Sanders\"]), pd.DataFrame(test_dict_num[\"Sanders\"])], axis=1)\n",
    "warren_X = pd.concat([pd.DataFrame(test_dict_len[\"Warren\"]), pd.DataFrame(test_dict_num[\"Warren\"])], axis=1)\n",
    "yang_X = pd.concat([pd.DataFrame(test_dict_len[\"Yang\"]), pd.DataFrame(test_dict_num[\"Yang\"])], axis=1)\n",
    "klobuchar_X = pd.concat([pd.DataFrame(test_dict_len[\"Klobuchar\"]), pd.DataFrame(test_dict_num[\"Klobuchar\"])], axis=1)\n",
    "train_check_X = pd.concat([pd.DataFrame(train_X_len), pd.DataFrame(train_X_num)], axis=1)"
   ]
  },
  {
   "cell_type": "code",
   "execution_count": 367,
   "metadata": {},
   "outputs": [],
   "source": [
    "def get_stance(candidate_data):\n",
    "    predictions = predictor.predict(candidate_data)\n",
    "    pred = np.argmax(predictions, axis=1)\n",
    "    agg = collections.Counter(pred)\n",
    "    \n",
    "    immigration_stance = (((agg[0] - agg[1]) * 1.0 / (agg[0] + agg[1])) + 1) * 0.5\n",
    "    gun_stance = (((agg[2] - agg[3]) * 1.0 / (agg[2] + agg[3])) + 1) * 0.5\n",
    "    medicare_stance = (((agg[4] - agg[5]) * 1.0 / (agg[4] + agg[5])) + 1) * 0.5\n",
    "    \n",
    "    immigration_importance = (agg[0] + agg[1]) * 1.0 / pred.shape[0]\n",
    "    guns_importance = (agg[2] + agg[3]) * 1.0 / pred.shape[0]\n",
    "    medicare_importance = (agg[4] + agg[5]) * 1.0 / pred.shape[0]\n",
    "    \n",
    "    print('Candidate stance on immigration:', immigration_stance, \".... Relative Importance:\", immigration_importance)\n",
    "    print('Candidate stance on guns:', gun_stance, \".... Relative Importance:\", guns_importance)\n",
    "    print('Candidate stance on medicare:', medicare_stance, \".... Relative Importance:\", medicare_importance)"
   ]
  },
  {
   "cell_type": "code",
   "execution_count": 368,
   "metadata": {},
   "outputs": [
    {
     "name": "stdout",
     "output_type": "stream",
     "text": [
      "Biden\n",
      "Candidate stance on immigration: 1.0 .... Relative Importance: 0.2729007633587786\n",
      "Candidate stance on guns: 0.20431893687707642 .... Relative Importance: 0.38295165394402036\n",
      "Candidate stance on medicare: 0.011090573012938976 .... Relative Importance: 0.344147582697201\n"
     ]
    }
   ],
   "source": [
    "print('Biden')\n",
    "\n",
    "get_stance(biden_X)"
   ]
  },
  {
   "cell_type": "code",
   "execution_count": 369,
   "metadata": {},
   "outputs": [
    {
     "name": "stdout",
     "output_type": "stream",
     "text": [
      "Sanders\n",
      "Candidate stance on immigration: 1.0 .... Relative Importance: 0.3139050791007494\n",
      "Candidate stance on guns: 0.1939252336448598 .... Relative Importance: 0.3563696919233972\n",
      "Candidate stance on medicare: 0.012626262626262652 .... Relative Importance: 0.32972522897585343\n"
     ]
    }
   ],
   "source": [
    "print('Sanders')\n",
    "\n",
    "get_stance(sanders_X)"
   ]
  },
  {
   "cell_type": "code",
   "execution_count": 370,
   "metadata": {},
   "outputs": [
    {
     "name": "stdout",
     "output_type": "stream",
     "text": [
      "Buttigieg\n",
      "Candidate stance on immigration: 1.0 .... Relative Importance: 0.28063241106719367\n",
      "Candidate stance on guns: 0.11671087533156499 .... Relative Importance: 0.3725296442687747\n",
      "Candidate stance on medicare: 0.011396011396011374 .... Relative Importance: 0.3468379446640316\n"
     ]
    }
   ],
   "source": [
    "print('Buttigieg')\n",
    "\n",
    "get_stance(buttigieg_X)"
   ]
  },
  {
   "cell_type": "code",
   "execution_count": 373,
   "metadata": {},
   "outputs": [
    {
     "name": "stdout",
     "output_type": "stream",
     "text": [
      "Warren\n",
      "Candidate stance on immigration: 0.9928315412186379 .... Relative Importance: 0.2818181818181818\n",
      "Candidate stance on guns: 0.16969696969696968 .... Relative Importance: 0.3333333333333333\n",
      "Candidate stance on medicare: 0.005249343832021025 .... Relative Importance: 0.38484848484848483\n"
     ]
    }
   ],
   "source": [
    "print('Warren')\n",
    "\n",
    "get_stance(warren_X)"
   ]
  },
  {
   "cell_type": "code",
   "execution_count": 374,
   "metadata": {},
   "outputs": [
    {
     "name": "stdout",
     "output_type": "stream",
     "text": [
      "Yang\n",
      "Candidate stance on immigration: 1.0 .... Relative Importance: 0.2835820895522388\n",
      "Candidate stance on guns: 0.14321608040201006 .... Relative Importance: 0.39601990049751246\n",
      "Candidate stance on medicare: 0.012422360248447228 .... Relative Importance: 0.32039800995024875\n"
     ]
    }
   ],
   "source": [
    "print('Yang')\n",
    "\n",
    "get_stance(yang_X)"
   ]
  },
  {
   "cell_type": "code",
   "execution_count": 375,
   "metadata": {},
   "outputs": [
    {
     "name": "stdout",
     "output_type": "stream",
     "text": [
      "Klobuchar\n",
      "Candidate stance on immigration: 0.9893048128342246 .... Relative Importance: 0.31140716069941715\n",
      "Candidate stance on guns: 0.13235294117647056 .... Relative Importance: 0.33971690258118237\n",
      "Candidate stance on medicare: 0.01670644391408116 .... Relative Importance: 0.3488759367194005\n"
     ]
    }
   ],
   "source": [
    "print('Klobuchar')\n",
    "\n",
    "get_stance(klobuchar_X)"
   ]
  },
  {
   "cell_type": "markdown",
   "metadata": {},
   "source": [
    "# Compare to Mr. President"
   ]
  },
  {
   "cell_type": "code",
   "execution_count": 381,
   "metadata": {},
   "outputs": [],
   "source": [
    "df_trump = pd.read_csv('./data/trump_tweets.csv')\n",
    "l = df_trump.text.to_list()\n",
    "words_test_trump = [sent_to_words(sent) for sent in l]\n",
    "\n",
    "trump_dict_num, trump_dict_len = convert_and_pad_data(word_dict, words_test_trump)"
   ]
  },
  {
   "cell_type": "code",
   "execution_count": 387,
   "metadata": {},
   "outputs": [],
   "source": [
    "def predict(data, rows=512):\n",
    "    split_array = np.array_split(data, int(data.shape[0] / float(rows) + 1))\n",
    "    predictions = np.array([[None, None, None, None, None, None]])\n",
    "    for array in split_array:\n",
    "        predictions = np.concatenate((predictions, predictor.predict(array)), axis=0)\n",
    "    \n",
    "    return predictions"
   ]
  },
  {
   "cell_type": "code",
   "execution_count": 388,
   "metadata": {},
   "outputs": [],
   "source": [
    "def get_stance_from_pred(predictions):\n",
    "    pred = np.argmax(predictions, axis=1)\n",
    "    agg = collections.Counter(pred)\n",
    "    \n",
    "    immigration_stance = (((agg[0] - agg[1]) * 1.0 / (agg[0] + agg[1])) + 1) * 0.5\n",
    "    gun_stance = (((agg[2] - agg[3]) * 1.0 / (agg[2] + agg[3])) + 1) * 0.5\n",
    "    medicare_stance = (((agg[4] - agg[5]) * 1.0 / (agg[4] + agg[5])) + 1) * 0.5\n",
    "    \n",
    "    immigration_importance = (agg[0] + agg[1]) * 1.0 / pred.shape[0]\n",
    "    guns_importance = (agg[2] + agg[3]) * 1.0 / pred.shape[0]\n",
    "    medicare_importance = (agg[4] + agg[5]) * 1.0 / pred.shape[0]\n",
    "    \n",
    "    print('Candidate stance on immigration:', immigration_stance, \".... Relative Importance:\", immigration_importance)\n",
    "    print('Candidate stance on guns:', gun_stance, \".... Relative Importance:\", guns_importance)\n",
    "    print('Candidate stance on medicare:', medicare_stance, \".... Relative Importance:\", medicare_importance)"
   ]
  },
  {
   "cell_type": "code",
   "execution_count": 391,
   "metadata": {},
   "outputs": [
    {
     "name": "stdout",
     "output_type": "stream",
     "text": [
      "Trump\n"
     ]
    }
   ],
   "source": [
    "trump_X = pd.concat([pd.DataFrame(trump_dict_len), pd.DataFrame(trump_dict_num)], axis=1)\n",
    "\n",
    "agg_trump = predict(trump_X)"
   ]
  },
  {
   "cell_type": "code",
   "execution_count": 393,
   "metadata": {},
   "outputs": [
    {
     "name": "stdout",
     "output_type": "stream",
     "text": [
      "Trump\n",
      "Candidate stance on immigration: 0.9959083469721768 .... Relative Importance: 0.180112017293898\n",
      "Candidate stance on guns: 0.04207369323050558 .... Relative Importance: 0.5733516753463692\n",
      "Candidate stance on medicare: 0.04942208051016339 .... Relative Importance: 0.24653630735973273\n"
     ]
    }
   ],
   "source": [
    "print('Trump')\n",
    "get_stance_from_pred(agg_trump[1:])"
   ]
  },
  {
   "cell_type": "markdown",
   "metadata": {},
   "source": [
    "# Don't Forget to Delete!!!"
   ]
  },
  {
   "cell_type": "code",
   "execution_count": 394,
   "metadata": {},
   "outputs": [],
   "source": [
    "predictor.delete_endpoint()"
   ]
  },
  {
   "cell_type": "code",
   "execution_count": null,
   "metadata": {},
   "outputs": [],
   "source": []
  }
 ],
 "metadata": {
  "kernelspec": {
   "display_name": "conda_pytorch_p36",
   "language": "python",
   "name": "conda_pytorch_p36"
  },
  "language_info": {
   "codemirror_mode": {
    "name": "ipython",
    "version": 3
   },
   "file_extension": ".py",
   "mimetype": "text/x-python",
   "name": "python",
   "nbconvert_exporter": "python",
   "pygments_lexer": "ipython3",
   "version": "3.6.5"
  }
 },
 "nbformat": 4,
 "nbformat_minor": 4
}
